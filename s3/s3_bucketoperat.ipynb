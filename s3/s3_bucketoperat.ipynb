{
 "cells": [
  {
   "cell_type": "code",
   "execution_count": 1,
   "metadata": {},
   "outputs": [],
   "source": [
    "'''\n",
    "@Author: Rashmi\n",
    "@Date: 2021-12-8 23:10\n",
    "@Last Modified by: Rashmi\n",
    "@Last Modified time: 2021-12-9  00:16\n",
    "@Title : python program to create bucket,upload objects into\n",
    "bucket,to download objects,read objects,delete objects,buckets\n",
    "using boto3 and s3fs library\n",
    "'''\n",
    "import boto3\n",
    "import pandas as pd\n",
    "import os\n",
    "from dotenv import load_dotenv\n",
    "load_dotenv('.env')\n",
    "\n",
    "s3 = boto3.client('s3')"
   ]
  },
  {
   "cell_type": "code",
   "execution_count": 2,
   "metadata": {},
   "outputs": [],
   "source": [
    "# Access\n",
    "s3 = boto3.resource(\n",
    "    service_name='s3',\n",
    "    region_name='ap-south-1',\n",
    "    aws_access_key_id=os.getenv(\"Access_key_id\"),\n",
    "    aws_secret_access_key=os.getenv(\"Secret_access_key\")\n",
    ")\n"
   ]
  },
  {
   "cell_type": "code",
   "execution_count": 3,
   "metadata": {},
   "outputs": [],
   "source": [
    "# Creating a bucket\n",
    "bucket = s3.create_bucket(Bucket='buck81221',CreateBucketConfiguration={'LocationConstraint':'ap-south-1'})"
   ]
  },
  {
   "cell_type": "code",
   "execution_count": 4,
   "metadata": {},
   "outputs": [
    {
     "name": "stdout",
     "output_type": "stream",
     "text": [
      "buck81221\n"
     ]
    }
   ],
   "source": [
    "# Print out bucket names\n",
    "for bucket in s3.buckets.all():\n",
    "    print(bucket.name)"
   ]
  },
  {
   "cell_type": "code",
   "execution_count": 5,
   "metadata": {},
   "outputs": [],
   "source": [
    "# create emp_data dataframe\n",
    "emp_data = pd.DataFrame({'emp_id': [1, 2, 3],\n",
    "            'name': ['Rishika', 'Ravish', 'Mehak'],\n",
    "            'dept': ['IT', 'ADMIN', 'HR'] \n",
    "            })"
   ]
  },
  {
   "cell_type": "code",
   "execution_count": 6,
   "metadata": {},
   "outputs": [],
   "source": [
    "emp_data.to_csv('Empdata.csv')"
   ]
  },
  {
   "cell_type": "code",
   "execution_count": 7,
   "metadata": {},
   "outputs": [],
   "source": [
    "#upload the csv file into s3\n",
    "s3.Bucket('buck81221').upload_file(Filename='Empdata.csv', Key='Empdata.csv')"
   ]
  },
  {
   "cell_type": "code",
   "execution_count": 8,
   "metadata": {},
   "outputs": [
    {
     "name": "stdout",
     "output_type": "stream",
     "text": [
      "s3.ObjectSummary(bucket_name='buck81221', key='Empdata.csv')\n"
     ]
    }
   ],
   "source": [
    "# get all files in bucket\n",
    "for obj in s3.Bucket('buck81221').objects.all():\n",
    "    print(obj)\n"
   ]
  },
  {
   "cell_type": "code",
   "execution_count": 9,
   "metadata": {},
   "outputs": [],
   "source": [
    "#upload file directly from local system\n",
    "\n",
    "s3.Bucket('buck81221').upload_file('/home/lenovo/Downloads/input1.txt','input1.txt')"
   ]
  },
  {
   "cell_type": "code",
   "execution_count": 10,
   "metadata": {},
   "outputs": [
    {
     "data": {
      "text/html": [
       "<div>\n",
       "<style scoped>\n",
       "    .dataframe tbody tr th:only-of-type {\n",
       "        vertical-align: middle;\n",
       "    }\n",
       "\n",
       "    .dataframe tbody tr th {\n",
       "        vertical-align: top;\n",
       "    }\n",
       "\n",
       "    .dataframe thead th {\n",
       "        text-align: right;\n",
       "    }\n",
       "</style>\n",
       "<table border=\"1\" class=\"dataframe\">\n",
       "  <thead>\n",
       "    <tr style=\"text-align: right;\">\n",
       "      <th></th>\n",
       "      <th>emp_id</th>\n",
       "      <th>name</th>\n",
       "      <th>dept</th>\n",
       "    </tr>\n",
       "  </thead>\n",
       "  <tbody>\n",
       "    <tr>\n",
       "      <th>0</th>\n",
       "      <td>1</td>\n",
       "      <td>Rishika</td>\n",
       "      <td>IT</td>\n",
       "    </tr>\n",
       "    <tr>\n",
       "      <th>1</th>\n",
       "      <td>2</td>\n",
       "      <td>Ravish</td>\n",
       "      <td>ADMIN</td>\n",
       "    </tr>\n",
       "    <tr>\n",
       "      <th>2</th>\n",
       "      <td>3</td>\n",
       "      <td>Mehak</td>\n",
       "      <td>HR</td>\n",
       "    </tr>\n",
       "  </tbody>\n",
       "</table>\n",
       "</div>"
      ],
      "text/plain": [
       "   emp_id     name   dept\n",
       "0       1  Rishika     IT\n",
       "1       2   Ravish  ADMIN\n",
       "2       3    Mehak     HR"
      ]
     },
     "execution_count": 10,
     "metadata": {},
     "output_type": "execute_result"
    }
   ],
   "source": [
    "#to get the file from s3 bucket and read the data\n",
    "obj_get = s3.Bucket('buck81221').Object('Empdata.csv').get()\n",
    "pd.read_csv(obj_get['Body'], index_col=0)"
   ]
  },
  {
   "cell_type": "code",
   "execution_count": 11,
   "metadata": {},
   "outputs": [
    {
     "data": {
      "text/html": [
       "<div>\n",
       "<style scoped>\n",
       "    .dataframe tbody tr th:only-of-type {\n",
       "        vertical-align: middle;\n",
       "    }\n",
       "\n",
       "    .dataframe tbody tr th {\n",
       "        vertical-align: top;\n",
       "    }\n",
       "\n",
       "    .dataframe thead th {\n",
       "        text-align: right;\n",
       "    }\n",
       "</style>\n",
       "<table border=\"1\" class=\"dataframe\">\n",
       "  <thead>\n",
       "    <tr style=\"text-align: right;\">\n",
       "      <th></th>\n",
       "    </tr>\n",
       "    <tr>\n",
       "      <th>Hi this is sample program for wordcount Hi this is to execute wordcount of the we get count of words</th>\n",
       "    </tr>\n",
       "  </thead>\n",
       "  <tbody>\n",
       "    <tr>\n",
       "      <th>Hi this is sample program for wordcount Hi this is to execute wordcount of the input data the words are incremented</th>\n",
       "    </tr>\n",
       "    <tr>\n",
       "      <th>we get count of words</th>\n",
       "    </tr>\n",
       "  </tbody>\n",
       "</table>\n",
       "</div>"
      ],
      "text/plain": [
       "Empty DataFrame\n",
       "Columns: []\n",
       "Index: [Hi this is sample program for wordcount Hi this is to execute wordcount of the input data the words are incremented, we get count of words]"
      ]
     },
     "execution_count": 11,
     "metadata": {},
     "output_type": "execute_result"
    }
   ],
   "source": [
    "#to download the file from s3 to local\n",
    "s3.Bucket('buck81221').download_file(Key='input1.txt', Filename='download.csv')\n",
    "pd.read_csv('download.csv', index_col=0)"
   ]
  },
  {
   "cell_type": "code",
   "execution_count": 12,
   "metadata": {},
   "outputs": [
    {
     "data": {
      "text/plain": [
       "[{'ResponseMetadata': {'RequestId': 'VP4MAQBYRGRETHC8',\n",
       "   'HostId': 'pol6eKxUOJ3TBx/jrFgiPEGKb3k7Idtt3GvcxTiqyDbjMlnyXuvUXQ0sVOI6ULFzHOVh1VLKvF8=',\n",
       "   'HTTPStatusCode': 200,\n",
       "   'HTTPHeaders': {'x-amz-id-2': 'pol6eKxUOJ3TBx/jrFgiPEGKb3k7Idtt3GvcxTiqyDbjMlnyXuvUXQ0sVOI6ULFzHOVh1VLKvF8=',\n",
       "    'x-amz-request-id': 'VP4MAQBYRGRETHC8',\n",
       "    'date': 'Wed, 08 Dec 2021 18:42:30 GMT',\n",
       "    'content-type': 'application/xml',\n",
       "    'transfer-encoding': 'chunked',\n",
       "    'server': 'AmazonS3',\n",
       "    'connection': 'close'},\n",
       "   'RetryAttempts': 0},\n",
       "  'Deleted': [{'Key': 'Empdata.csv'}, {'Key': 'input1.txt'}]}]"
      ]
     },
     "execution_count": 12,
     "metadata": {},
     "output_type": "execute_result"
    }
   ],
   "source": [
    "# Delete objects from bucket\n",
    "bucket = s3.Bucket('buck81221')\n",
    "bucket.objects.all().delete()\n"
   ]
  },
  {
   "cell_type": "code",
   "execution_count": 13,
   "metadata": {},
   "outputs": [],
   "source": [
    "# Check objects in bucket\n",
    "for obj in s3.Bucket('buck81221').objects.all():\n",
    "    print(obj)"
   ]
  },
  {
   "cell_type": "code",
   "execution_count": 14,
   "metadata": {},
   "outputs": [
    {
     "data": {
      "text/plain": [
       "{'ResponseMetadata': {'RequestId': '90QVW435VQQGBGSJ',\n",
       "  'HostId': 'uAx4wha9qRCdfeGOmMiqGfYg0bO0KODasKMoZNmPqK9n/w0D6NAzaDn5YXeEBlLeMS11SdtbKkQ=',\n",
       "  'HTTPStatusCode': 204,\n",
       "  'HTTPHeaders': {'x-amz-id-2': 'uAx4wha9qRCdfeGOmMiqGfYg0bO0KODasKMoZNmPqK9n/w0D6NAzaDn5YXeEBlLeMS11SdtbKkQ=',\n",
       "   'x-amz-request-id': '90QVW435VQQGBGSJ',\n",
       "   'date': 'Wed, 08 Dec 2021 18:45:03 GMT',\n",
       "   'server': 'AmazonS3'},\n",
       "  'RetryAttempts': 0}}"
      ]
     },
     "execution_count": 14,
     "metadata": {},
     "output_type": "execute_result"
    }
   ],
   "source": [
    "# To Delete bucket from S3\n",
    "bucket = s3.Bucket('buck81221')\n",
    "bucket.delete()"
   ]
  }
 ],
 "metadata": {
  "interpreter": {
   "hash": "916dbcbb3f70747c44a77c7bcd40155683ae19c65e1c03b4aa3499c5328201f1"
  },
  "kernelspec": {
   "display_name": "Python 3.8.10 64-bit",
   "name": "python3"
  },
  "language_info": {
   "codemirror_mode": {
    "name": "ipython",
    "version": 3
   },
   "file_extension": ".py",
   "mimetype": "text/x-python",
   "name": "python",
   "nbconvert_exporter": "python",
   "pygments_lexer": "ipython3",
   "version": "3.8.10"
  },
  "orig_nbformat": 4
 },
 "nbformat": 4,
 "nbformat_minor": 2
}
